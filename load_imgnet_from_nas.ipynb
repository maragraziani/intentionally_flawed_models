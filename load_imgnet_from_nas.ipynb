{
 "cells": [
  {
   "cell_type": "code",
   "execution_count": 1,
   "metadata": {},
   "outputs": [
    {
     "name": "stderr",
     "output_type": "stream",
     "text": [
      "/home/mara/venv/local/lib/python2.7/site-packages/h5py/__init__.py:36: FutureWarning: Conversion of the second argument of issubdtype from `float` to `np.floating` is deprecated. In future, it will be treated as `np.float64 == np.dtype(float).type`.\n",
      "  from ._conv import register_converters as _register_converters\n"
     ]
    }
   ],
   "source": [
    "%matplotlib inline\n",
    "import matplotlib.pyplot as plt\n",
    "import numpy as np\n",
    "from PIL import Image\n",
    "import PIL\n",
    "import os\n",
    "import sys\n",
    "import h5py "
   ]
  },
  {
   "cell_type": "code",
   "execution_count": null,
   "metadata": {},
   "outputs": [],
   "source": [
    "ilvsrc_location = '/mnt/nas4/datasets/ToReadme/ilsvrc12/train'\n",
    "dataset = h5py.File('data.h5', 'w')"
   ]
  },
  {
   "cell_type": "code",
   "execution_count": 4,
   "metadata": {},
   "outputs": [],
   "source": [
    "def reshape299(img):\n",
    "    '''Gets an Image as inputs and it reshapes it to 299x299\n",
    "       Returns a numpy array (299,299,3)\n",
    "    '''\n",
    "    reshaped_img = img.resize((299,299), PIL.Image.ANTIALIAS)\n",
    "    #import pdb; pdb.set_trace()\n",
    "    return np.asarray(reshaped_img)"
   ]
  },
  {
   "cell_type": "code",
   "execution_count": 2,
   "metadata": {},
   "outputs": [],
   "source": [
    "classes=['n02085620', # chiuaua 1075\n",
    "         'n02099601', # golden retriever 967\n",
    "         'n02165456', # ladybug 1574 \n",
    "         'n02676566', # acoustic guitar 1083\n",
    "         'n02701002', # ambulance 249 --- TO CHANGE Knitwear\n",
    "         'n02871525', # bookshop 1050 \n",
    "         'n02927161', # butcher 1026\n",
    "         #'n02999410', # chain 653 -- TO CHANGE (MAYBE) FOR CONFECTIONERY\n",
    "         'n03000134', # chainlink fence 1239\n",
    "         'n03042490', # cliff dwelling 1335\n",
    "         'n03089624', # confectionery \n",
    "         #'n13003061'  # -- \n",
    "        ]"
   ]
  },
  {
   "cell_type": "raw",
   "metadata": {},
   "source": [
    "for c in classes:\n",
    "    data = []\n",
    "    images_list = os.listdir('{}/{}'.format(ilvsrc_location,c))\n",
    "    for img_name in images_list:\n",
    "        img = Image.open('{}/{}/{}'.format(ilvsrc_location,c, img_name))\n",
    "        img = reshape299(img)\n",
    "        if np.shape(img.shape)==(3,):\n",
    "            data.append(img)\n",
    "        #data.append(img)\n",
    "        #print img.shape\n",
    "    dataset[c] = data"
   ]
  },
  {
   "cell_type": "code",
   "execution_count": 11,
   "metadata": {},
   "outputs": [],
   "source": [
    "dataset.close()"
   ]
  },
  {
   "cell_type": "code",
   "execution_count": 12,
   "metadata": {},
   "outputs": [],
   "source": [
    "dataset = h5py.File('data.h5', 'r')"
   ]
  },
  {
   "cell_type": "code",
   "execution_count": 13,
   "metadata": {},
   "outputs": [
    {
     "name": "stdout",
     "output_type": "stream",
     "text": [
      "n02085620\n",
      "n02099601\n",
      "n02165456\n",
      "n02676566\n",
      "n02701002\n",
      "n02871525\n",
      "n02927161\n",
      "n03000134\n",
      "n03042490\n",
      "n03089624\n"
     ]
    }
   ],
   "source": [
    "def print_info(name, obj):\n",
    "    print name \n",
    "dataset.visititems(print_info)"
   ]
  },
  {
   "cell_type": "code",
   "execution_count": 14,
   "metadata": {},
   "outputs": [
    {
     "name": "stdout",
     "output_type": "stream",
     "text": [
      "<HDF5 dataset \"n02085620\": shape (1279, 299, 299, 3), type \"|u1\">\n",
      "<HDF5 dataset \"n02099601\": shape (1289, 299, 299, 3), type \"|u1\">\n",
      "<HDF5 dataset \"n02165456\": shape (1300, 299, 299, 3), type \"|u1\">\n",
      "<HDF5 dataset \"n02676566\": shape (1237, 299, 299, 3), type \"|u1\">\n",
      "<HDF5 dataset \"n02701002\": shape (1293, 299, 299, 3), type \"|u1\">\n",
      "<HDF5 dataset \"n02871525\": shape (1279, 299, 299, 3), type \"|u1\">\n",
      "<HDF5 dataset \"n02927161\": shape (1291, 299, 299, 3), type \"|u1\">\n",
      "<HDF5 dataset \"n03000134\": shape (1228, 299, 299, 3), type \"|u1\">\n",
      "<HDF5 dataset \"n03042490\": shape (1281, 299, 299, 3), type \"|u1\">\n",
      "<HDF5 dataset \"n03089624\": shape (1298, 299, 299, 3), type \"|u1\">\n"
     ]
    }
   ],
   "source": [
    "for c in classes:\n",
    "    print dataset[c]"
   ]
  },
  {
   "cell_type": "code",
   "execution_count": 7,
   "metadata": {},
   "outputs": [],
   "source": [
    "ilvsrc_location = '/mnt/nas4/datasets/ToReadme/ilsvrc12/val'\n",
    "dataset = h5py.File('data-val.h5', 'w')\n",
    "for c in classes:\n",
    "    data = []\n",
    "    images_list = os.listdir('{}/{}'.format(ilvsrc_location,c))\n",
    "    for img_name in images_list:\n",
    "        img = Image.open('{}/{}/{}'.format(ilvsrc_location,c, img_name))\n",
    "        img = reshape299(img)\n",
    "        if np.shape(img.shape)==(3,):\n",
    "            data.append(img)\n",
    "        #data.append(img)\n",
    "        #print img.shape\n",
    "    dataset[c] = data"
   ]
  },
  {
   "cell_type": "code",
   "execution_count": 8,
   "metadata": {},
   "outputs": [],
   "source": [
    "dataset.close()"
   ]
  },
  {
   "cell_type": "code",
   "execution_count": null,
   "metadata": {},
   "outputs": [],
   "source": []
  }
 ],
 "metadata": {
  "kernelspec": {
   "display_name": "Python 2",
   "language": "python",
   "name": "python2"
  },
  "language_info": {
   "codemirror_mode": {
    "name": "ipython",
    "version": 2
   },
   "file_extension": ".py",
   "mimetype": "text/x-python",
   "name": "python",
   "nbconvert_exporter": "python",
   "pygments_lexer": "ipython2",
   "version": "2.7.12"
  }
 },
 "nbformat": 4,
 "nbformat_minor": 2
}
